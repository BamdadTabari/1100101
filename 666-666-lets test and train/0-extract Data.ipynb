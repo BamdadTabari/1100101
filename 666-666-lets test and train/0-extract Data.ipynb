{
 "cells": [
  {
   "cell_type": "markdown",
   "metadata": {},
   "source": [
    "# extract data from sqllite\n"
   ]
  },
  {
   "cell_type": "code",
   "execution_count": 27,
   "metadata": {},
   "outputs": [
    {
     "name": "stdout",
     "output_type": "stream",
     "text": [
      "[('Repo',), ('sqlite_sequence',), ('Solution',), ('MethodParameter',), ('Method',)]\n"
     ]
    }
   ],
   "source": [
    "import sqlite3\n",
    "import pandas as pd\n",
    "import os\n",
    "\n",
    "database_path = os.path.join(os.getcwd(), '../part1/1-do-by-phind/2-step2/0-KaggleData/CsharpLearningDatabase.sqlite')\n",
    "\n",
    "# Now use this absolute path to connect\n",
    "try:\n",
    "    conn = sqlite3.connect(database_path)\n",
    "except Exception as e:\n",
    "    print(e)\n",
    "\n",
    "# List all tables in the SQLite database\n",
    "cursor = conn.cursor()\n",
    "cursor.execute(\"SELECT name FROM sqlite_master WHERE type='table';\")\n",
    "\n",
    "print(cursor.fetchall())\n"
   ]
  },
  {
   "cell_type": "code",
   "execution_count": 35,
   "metadata": {},
   "outputs": [],
   "source": [
    "#query = \"SELECT * FROM 'db_name' WHERE topic = 'C# Learning Data'\"\n",
    "#query = \"SELECT * FROM 'Repo' WHERE 0=0\"\n",
    "#query = \"SELECT * FROM 'sqlite_sequence' WHERE 0=0\"\n",
    "#query = \"SELECT * FROM 'Solution' WHERE 0=0\"\n",
    "#query = \"SELECT * FROM 'MethodParameter' WHERE 0=0\"\n",
    "query = \"SELECT * FROM 'Method' WHERE 0=0\"\n",
    "df = pd.read_sql_query(query, conn)\n",
    "# Use the data as needed\n",
    "\n",
    "# Close the connection\n",
    "conn.close()"
   ]
  },
  {
   "cell_type": "markdown",
   "metadata": {},
   "source": [
    "## big cosShen?\n",
    "### how should I train my model with this shit?"
   ]
  },
  {
   "cell_type": "code",
   "execution_count": 39,
   "metadata": {},
   "outputs": [
    {
     "name": "stdout",
     "output_type": "stream",
     "text": [
      "Index(['Id', 'Name', 'FullComment', 'Summary', 'ApiCalls', 'CommentIsXml',\n",
      "       'SampledAt', 'SolutionId', 'Lang', 'NameTokenized'],\n",
      "      dtype='object')\n"
     ]
    }
   ],
   "source": [
    "print(df.columns)"
   ]
  },
  {
   "cell_type": "code",
   "execution_count": 40,
   "metadata": {},
   "outputs": [],
   "source": [
    "from sklearn.model_selection import train_test_split\n",
    "from sklearn.feature_extraction.text import TfidfVectorizer\n",
    "\n",
    "# Assuming 'text' is the column with the text data and 'label' is the column with the labels\n",
    "X = df['Name']\n",
    "y = df['Summary']\n",
    "\n",
    "# Split the data into training and testing sets\n",
    "X_train, X_test, y_train, y_test = train_test_split(X, y, test_size=0.2, random_state=42)\n",
    "\n",
    "# Convert text data into numerical representations\n",
    "vectorizer = TfidfVectorizer()\n",
    "X_train_transformed = vectorizer.fit_transform(X_train)\n",
    "X_test_transformed = vectorizer.transform(X_test)"
   ]
  },
  {
   "cell_type": "code",
   "execution_count": null,
   "metadata": {},
   "outputs": [],
   "source": [
    "from tensorflow.keras.models import Sequential\n",
    "from tensorflow.keras.layers import Dense, LSTM\n",
    "\n",
    "# Example of a simple LSTM model\n",
    "model = Sequential()\n",
    "model.add(LSTM(128, input_shape=(X_train_transformed.shape[1], 1), return_sequences=True))\n",
    "model.add(LSTM(128))\n",
    "model.add(Dense(y_train.shape[1], activation='softmax'))\n",
    "\n",
    "model.compile(loss='categorical_crossentropy', optimizer='adam', metrics=['accuracy'])"
   ]
  },
  {
   "cell_type": "code",
   "execution_count": null,
   "metadata": {},
   "outputs": [],
   "source": [
    "model.fit(X_train_transformed, y_train, epochs=10, batch_size=32, validation_data=(X_test_transformed, y_test))"
   ]
  },
  {
   "cell_type": "code",
   "execution_count": null,
   "metadata": {},
   "outputs": [],
   "source": [
    "# Evaluate the model\n",
    "loss, accuracy = model.evaluate(X_test_transformed, y_test)\n",
    "print(f\"Test loss: {loss}, Test accuracy: {accuracy}\")"
   ]
  },
  {
   "cell_type": "code",
   "execution_count": null,
   "metadata": {},
   "outputs": [],
   "source": [
    "model.save('my_chatbot_model.h5')"
   ]
  }
 ],
 "metadata": {
  "kernelspec": {
   "display_name": ".venv",
   "language": "python",
   "name": "python3"
  },
  "language_info": {
   "codemirror_mode": {
    "name": "ipython",
    "version": 3
   },
   "file_extension": ".py",
   "mimetype": "text/x-python",
   "name": "python",
   "nbconvert_exporter": "python",
   "pygments_lexer": "ipython3",
   "version": "3.12.2"
  }
 },
 "nbformat": 4,
 "nbformat_minor": 2
}
